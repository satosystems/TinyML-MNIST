{
 "cells": [
  {
   "cell_type": "markdown",
   "id": "61a244fa",
   "metadata": {},
   "source": [
    "# TinyML Handwritten Digit Recognizer\n",
    "\n",
    "## Dataset: MNIST (handwritten single digit 28x28)"
   ]
  },
  {
   "cell_type": "code",
   "execution_count": 1,
   "id": "e190b47e",
   "metadata": {},
   "outputs": [
    {
     "name": "stdout",
     "output_type": "stream",
     "text": [
      "Requirement already satisfied: numpy in ./.venv/lib/python3.10/site-packages (1.23.1)\n",
      "Requirement already satisfied: tensorflow in ./.venv/lib/python3.10/site-packages (2.9.1)\n",
      "Requirement already satisfied: absl-py>=1.0.0 in ./.venv/lib/python3.10/site-packages (from tensorflow) (1.1.0)\n",
      "Requirement already satisfied: wrapt>=1.11.0 in ./.venv/lib/python3.10/site-packages (from tensorflow) (1.14.1)\n",
      "Requirement already satisfied: flatbuffers<2,>=1.12 in ./.venv/lib/python3.10/site-packages (from tensorflow) (1.12)\n",
      "Requirement already satisfied: typing-extensions>=3.6.6 in ./.venv/lib/python3.10/site-packages (from tensorflow) (4.3.0)\n",
      "Requirement already satisfied: termcolor>=1.1.0 in ./.venv/lib/python3.10/site-packages (from tensorflow) (1.1.0)\n",
      "Requirement already satisfied: gast<=0.4.0,>=0.2.1 in ./.venv/lib/python3.10/site-packages (from tensorflow) (0.4.0)\n",
      "Requirement already satisfied: tensorflow-estimator<2.10.0,>=2.9.0rc0 in ./.venv/lib/python3.10/site-packages (from tensorflow) (2.9.0)\n",
      "Requirement already satisfied: keras-preprocessing>=1.1.1 in ./.venv/lib/python3.10/site-packages (from tensorflow) (1.1.2)\n",
      "Requirement already satisfied: grpcio<2.0,>=1.24.3 in ./.venv/lib/python3.10/site-packages (from tensorflow) (1.47.0)\n",
      "Requirement already satisfied: google-pasta>=0.1.1 in ./.venv/lib/python3.10/site-packages (from tensorflow) (0.2.0)\n",
      "Requirement already satisfied: packaging in ./.venv/lib/python3.10/site-packages (from tensorflow) (21.3)\n",
      "Requirement already satisfied: tensorboard<2.10,>=2.9 in ./.venv/lib/python3.10/site-packages (from tensorflow) (2.9.1)\n",
      "Requirement already satisfied: astunparse>=1.6.0 in ./.venv/lib/python3.10/site-packages (from tensorflow) (1.6.3)\n",
      "Requirement already satisfied: setuptools in ./.venv/lib/python3.10/site-packages (from tensorflow) (58.1.0)\n",
      "Requirement already satisfied: h5py>=2.9.0 in ./.venv/lib/python3.10/site-packages (from tensorflow) (3.7.0)\n",
      "Requirement already satisfied: keras<2.10.0,>=2.9.0rc0 in ./.venv/lib/python3.10/site-packages (from tensorflow) (2.9.0)\n",
      "Requirement already satisfied: tensorflow-io-gcs-filesystem>=0.23.1 in ./.venv/lib/python3.10/site-packages (from tensorflow) (0.26.0)\n",
      "Requirement already satisfied: libclang>=13.0.0 in ./.venv/lib/python3.10/site-packages (from tensorflow) (14.0.1)\n",
      "Requirement already satisfied: six>=1.12.0 in ./.venv/lib/python3.10/site-packages (from tensorflow) (1.16.0)\n",
      "Requirement already satisfied: opt-einsum>=2.3.2 in ./.venv/lib/python3.10/site-packages (from tensorflow) (3.3.0)\n",
      "Requirement already satisfied: protobuf<3.20,>=3.9.2 in ./.venv/lib/python3.10/site-packages (from tensorflow) (3.19.4)\n",
      "Requirement already satisfied: wheel<1.0,>=0.23.0 in ./.venv/lib/python3.10/site-packages (from astunparse>=1.6.0->tensorflow) (0.37.1)\n",
      "Requirement already satisfied: google-auth-oauthlib<0.5,>=0.4.1 in ./.venv/lib/python3.10/site-packages (from tensorboard<2.10,>=2.9->tensorflow) (0.4.6)\n",
      "Requirement already satisfied: tensorboard-plugin-wit>=1.6.0 in ./.venv/lib/python3.10/site-packages (from tensorboard<2.10,>=2.9->tensorflow) (1.8.1)\n",
      "Requirement already satisfied: werkzeug>=1.0.1 in ./.venv/lib/python3.10/site-packages (from tensorboard<2.10,>=2.9->tensorflow) (2.1.2)\n",
      "Requirement already satisfied: markdown>=2.6.8 in ./.venv/lib/python3.10/site-packages (from tensorboard<2.10,>=2.9->tensorflow) (3.4.1)\n",
      "Requirement already satisfied: tensorboard-data-server<0.7.0,>=0.6.0 in ./.venv/lib/python3.10/site-packages (from tensorboard<2.10,>=2.9->tensorflow) (0.6.1)\n",
      "Requirement already satisfied: requests<3,>=2.21.0 in ./.venv/lib/python3.10/site-packages (from tensorboard<2.10,>=2.9->tensorflow) (2.28.1)\n",
      "Requirement already satisfied: google-auth<3,>=1.6.3 in ./.venv/lib/python3.10/site-packages (from tensorboard<2.10,>=2.9->tensorflow) (2.9.1)\n",
      "Requirement already satisfied: pyparsing!=3.0.5,>=2.0.2 in ./.venv/lib/python3.10/site-packages (from packaging->tensorflow) (3.0.9)\n",
      "Requirement already satisfied: rsa<5,>=3.1.4 in ./.venv/lib/python3.10/site-packages (from google-auth<3,>=1.6.3->tensorboard<2.10,>=2.9->tensorflow) (4.8)\n",
      "Requirement already satisfied: pyasn1-modules>=0.2.1 in ./.venv/lib/python3.10/site-packages (from google-auth<3,>=1.6.3->tensorboard<2.10,>=2.9->tensorflow) (0.2.8)\n",
      "Requirement already satisfied: cachetools<6.0,>=2.0.0 in ./.venv/lib/python3.10/site-packages (from google-auth<3,>=1.6.3->tensorboard<2.10,>=2.9->tensorflow) (5.2.0)\n",
      "Requirement already satisfied: requests-oauthlib>=0.7.0 in ./.venv/lib/python3.10/site-packages (from google-auth-oauthlib<0.5,>=0.4.1->tensorboard<2.10,>=2.9->tensorflow) (1.3.1)\n",
      "Requirement already satisfied: charset-normalizer<3,>=2 in ./.venv/lib/python3.10/site-packages (from requests<3,>=2.21.0->tensorboard<2.10,>=2.9->tensorflow) (2.1.0)\n",
      "Requirement already satisfied: idna<4,>=2.5 in ./.venv/lib/python3.10/site-packages (from requests<3,>=2.21.0->tensorboard<2.10,>=2.9->tensorflow) (3.3)\n",
      "Requirement already satisfied: urllib3<1.27,>=1.21.1 in ./.venv/lib/python3.10/site-packages (from requests<3,>=2.21.0->tensorboard<2.10,>=2.9->tensorflow) (1.26.10)\n",
      "Requirement already satisfied: certifi>=2017.4.17 in ./.venv/lib/python3.10/site-packages (from requests<3,>=2.21.0->tensorboard<2.10,>=2.9->tensorflow) (2022.6.15)\n",
      "Requirement already satisfied: pyasn1<0.5.0,>=0.4.6 in ./.venv/lib/python3.10/site-packages (from pyasn1-modules>=0.2.1->google-auth<3,>=1.6.3->tensorboard<2.10,>=2.9->tensorflow) (0.4.8)\n",
      "Requirement already satisfied: oauthlib>=3.0.0 in ./.venv/lib/python3.10/site-packages (from requests-oauthlib>=0.7.0->google-auth-oauthlib<0.5,>=0.4.1->tensorboard<2.10,>=2.9->tensorflow) (3.2.0)\n"
     ]
    }
   ],
   "source": [
    "!pip install numpy tensorflow"
   ]
  },
  {
   "cell_type": "code",
   "execution_count": 2,
   "id": "1094b2aa",
   "metadata": {},
   "outputs": [],
   "source": [
    "import numpy as np\n",
    "import tensorflow as tf\n",
    "from tensorflow.keras import datasets, utils\n",
    "from tensorflow.keras import models, layers, losses"
   ]
  },
  {
   "cell_type": "markdown",
   "id": "da636387",
   "metadata": {},
   "source": [
    "## Prepare Dataset"
   ]
  },
  {
   "cell_type": "code",
   "execution_count": 3,
   "id": "fd8549bd",
   "metadata": {},
   "outputs": [],
   "source": [
    "(x_train, y_train), (x_test, y_test) = datasets.mnist.load_data()"
   ]
  },
  {
   "cell_type": "code",
   "execution_count": 4,
   "id": "817695e0",
   "metadata": {},
   "outputs": [
    {
     "name": "stdout",
     "output_type": "stream",
     "text": [
      "(60000, 28, 28, 1)\n",
      "(10000, 28, 28, 1)\n"
     ]
    }
   ],
   "source": [
    "# data normalized\n",
    "x_train = x_train/255.\n",
    "x_test  = x_test/255.\n",
    "\n",
    "# reshape for model input\n",
    "x_train = x_train.reshape(-1,28,28,1)\n",
    "x_test = x_test.reshape(-1,28,28,1)\n",
    "\n",
    "print(x_train.shape)\n",
    "print(x_test.shape)"
   ]
  },
  {
   "cell_type": "code",
   "execution_count": 5,
   "id": "1a8bf9e0",
   "metadata": {},
   "outputs": [
    {
     "name": "stdout",
     "output_type": "stream",
     "text": [
      "(60000, 10)\n",
      "(10000, 10)\n"
     ]
    }
   ],
   "source": [
    "# encoding y data\n",
    "y_train = utils.to_categorical(y_train)\n",
    "y_test  = utils.to_categorical(y_test)\n",
    "\n",
    "print(y_train.shape)\n",
    "print(y_test.shape)"
   ]
  },
  {
   "cell_type": "markdown",
   "id": "ea9d8dfc",
   "metadata": {},
   "source": [
    "## Build Model"
   ]
  },
  {
   "cell_type": "code",
   "execution_count": 6,
   "id": "b0ee6feb",
   "metadata": {},
   "outputs": [],
   "source": [
    "input_shape = (28,28,1) # img_rows, img_colums, color_channels\n",
    "num_classes = 10"
   ]
  },
  {
   "cell_type": "code",
   "execution_count": 7,
   "id": "e798c81d",
   "metadata": {},
   "outputs": [
    {
     "name": "stdout",
     "output_type": "stream",
     "text": [
      "Model: \"model\"\n",
      "_________________________________________________________________\n",
      " Layer (type)                Output Shape              Param #   \n",
      "=================================================================\n",
      " input_1 (InputLayer)        [(None, 28, 28, 1)]       0         \n",
      "                                                                 \n",
      " conv2d (Conv2D)             (None, 28, 28, 16)        160       \n",
      "                                                                 \n",
      " max_pooling2d (MaxPooling2D  (None, 14, 14, 16)       0         \n",
      " )                                                               \n",
      "                                                                 \n",
      " conv2d_1 (Conv2D)           (None, 14, 14, 16)        2320      \n",
      "                                                                 \n",
      " max_pooling2d_1 (MaxPooling  (None, 7, 7, 16)         0         \n",
      " 2D)                                                             \n",
      "                                                                 \n",
      " flatten (Flatten)           (None, 784)               0         \n",
      "                                                                 \n",
      " dense (Dense)               (None, 64)                50240     \n",
      "                                                                 \n",
      " dense_1 (Dense)             (None, 10)                650       \n",
      "                                                                 \n",
      "=================================================================\n",
      "Total params: 53,370\n",
      "Trainable params: 53,370\n",
      "Non-trainable params: 0\n",
      "_________________________________________________________________\n"
     ]
    },
    {
     "name": "stderr",
     "output_type": "stream",
     "text": [
      "2022-07-18 15:03:07.795129: I tensorflow/core/platform/cpu_feature_guard.cc:193] This TensorFlow binary is optimized with oneAPI Deep Neural Network Library (oneDNN) to use the following CPU instructions in performance-critical operations:  AVX2 FMA\n",
      "To enable them in other operations, rebuild TensorFlow with the appropriate compiler flags.\n"
     ]
    }
   ],
   "source": [
    "## Build Model\n",
    "inputs = layers.Input(shape=input_shape)\n",
    "x = layers.Conv2D(16, kernel_size = (3, 3), activation = 'relu', padding = 'same')(inputs)\n",
    "x = layers.MaxPool2D(pool_size = (2, 2))(x)\n",
    "# 2nd Conv layer        \n",
    "x = layers.Conv2D(16, kernel_size = (3, 3), activation = 'relu', padding = 'same')(x)\n",
    "x = layers.MaxPool2D(pool_size = (2, 2))(x)\n",
    "# Fully Connected layer        \n",
    "x = layers.Flatten()(x)\n",
    "x = layers.Dense(64)(x)\n",
    "outputs = layers.Dense(num_classes, activation=\"softmax\")(x)\n",
    "\n",
    "model = models.Model(inputs=inputs, outputs=outputs)\n",
    "\n",
    "model.summary()"
   ]
  },
  {
   "cell_type": "code",
   "execution_count": 8,
   "id": "af870670",
   "metadata": {},
   "outputs": [],
   "source": [
    "# Compile Model\n",
    "model.compile(loss='categorical_crossentropy', optimizer='adam', metrics=['accuracy'])"
   ]
  },
  {
   "cell_type": "markdown",
   "id": "2f2559d4",
   "metadata": {},
   "source": [
    "## Train Model"
   ]
  },
  {
   "cell_type": "code",
   "execution_count": 9,
   "id": "13016848",
   "metadata": {},
   "outputs": [
    {
     "name": "stdout",
     "output_type": "stream",
     "text": [
      "Epoch 1/20\n",
      "469/469 [==============================] - 12s 24ms/step - loss: 0.2871 - accuracy: 0.9163 - val_loss: 0.0828 - val_accuracy: 0.9750\n",
      "Epoch 2/20\n",
      "469/469 [==============================] - 12s 25ms/step - loss: 0.0813 - accuracy: 0.9750 - val_loss: 0.0637 - val_accuracy: 0.9796\n",
      "Epoch 3/20\n",
      "469/469 [==============================] - 13s 27ms/step - loss: 0.0617 - accuracy: 0.9811 - val_loss: 0.0515 - val_accuracy: 0.9842\n",
      "Epoch 4/20\n",
      "469/469 [==============================] - 14s 29ms/step - loss: 0.0506 - accuracy: 0.9847 - val_loss: 0.0443 - val_accuracy: 0.9864\n",
      "Epoch 5/20\n",
      "469/469 [==============================] - 15s 32ms/step - loss: 0.0437 - accuracy: 0.9858 - val_loss: 0.0422 - val_accuracy: 0.9869\n",
      "Epoch 6/20\n",
      "469/469 [==============================] - 15s 32ms/step - loss: 0.0390 - accuracy: 0.9875 - val_loss: 0.0443 - val_accuracy: 0.9854\n",
      "Epoch 7/20\n",
      "469/469 [==============================] - 15s 32ms/step - loss: 0.0362 - accuracy: 0.9884 - val_loss: 0.0416 - val_accuracy: 0.9877\n",
      "Epoch 8/20\n",
      "469/469 [==============================] - 15s 33ms/step - loss: 0.0321 - accuracy: 0.9901 - val_loss: 0.0454 - val_accuracy: 0.9846\n",
      "Epoch 9/20\n",
      "469/469 [==============================] - 15s 32ms/step - loss: 0.0292 - accuracy: 0.9905 - val_loss: 0.0394 - val_accuracy: 0.9869\n",
      "Epoch 10/20\n",
      "469/469 [==============================] - 15s 32ms/step - loss: 0.0281 - accuracy: 0.9908 - val_loss: 0.0441 - val_accuracy: 0.9870\n",
      "Epoch 11/20\n",
      "469/469 [==============================] - 15s 32ms/step - loss: 0.0250 - accuracy: 0.9920 - val_loss: 0.0407 - val_accuracy: 0.9878\n",
      "Epoch 12/20\n",
      "469/469 [==============================] - 15s 31ms/step - loss: 0.0234 - accuracy: 0.9921 - val_loss: 0.0392 - val_accuracy: 0.9888\n",
      "Epoch 13/20\n",
      "469/469 [==============================] - 15s 31ms/step - loss: 0.0229 - accuracy: 0.9930 - val_loss: 0.0370 - val_accuracy: 0.9889\n",
      "Epoch 14/20\n",
      "469/469 [==============================] - 15s 32ms/step - loss: 0.0195 - accuracy: 0.9935 - val_loss: 0.0372 - val_accuracy: 0.9894\n",
      "Epoch 15/20\n",
      "469/469 [==============================] - 15s 33ms/step - loss: 0.0178 - accuracy: 0.9945 - val_loss: 0.0411 - val_accuracy: 0.9885\n",
      "Epoch 16/20\n",
      "469/469 [==============================] - 16s 34ms/step - loss: 0.0180 - accuracy: 0.9942 - val_loss: 0.0451 - val_accuracy: 0.9865\n",
      "Epoch 17/20\n",
      "469/469 [==============================] - 16s 34ms/step - loss: 0.0168 - accuracy: 0.9947 - val_loss: 0.0469 - val_accuracy: 0.9856\n",
      "Epoch 18/20\n",
      "469/469 [==============================] - 16s 34ms/step - loss: 0.0149 - accuracy: 0.9949 - val_loss: 0.0499 - val_accuracy: 0.9858\n",
      "Epoch 19/20\n",
      "469/469 [==============================] - 14s 31ms/step - loss: 0.0146 - accuracy: 0.9953 - val_loss: 0.0493 - val_accuracy: 0.9871\n",
      "Epoch 20/20\n",
      "469/469 [==============================] - 14s 31ms/step - loss: 0.0134 - accuracy: 0.9954 - val_loss: 0.0473 - val_accuracy: 0.9878\n"
     ]
    }
   ],
   "source": [
    "# Train Model\n",
    "history = model.fit(x_train, y_train, batch_size=128, epochs=20, validation_data=(x_test, y_test))"
   ]
  },
  {
   "cell_type": "markdown",
   "id": "5ebf163c",
   "metadata": {},
   "source": [
    "## Evaluate Model"
   ]
  },
  {
   "cell_type": "code",
   "execution_count": 10,
   "id": "ace82c85",
   "metadata": {},
   "outputs": [
    {
     "name": "stdout",
     "output_type": "stream",
     "text": [
      "313/313 [==============================] - 4s 12ms/step - loss: 0.0473 - accuracy: 0.9878\n",
      "Test loss:  0.04726804047822952\n",
      "Test accuracy:  0.9878000020980835\n"
     ]
    }
   ],
   "source": [
    "# Evaluate Model\n",
    "score = model.evaluate(x_test, y_test)\n",
    "print('Test loss: ', score[0])\n",
    "print('Test accuracy: ', score[1])"
   ]
  },
  {
   "cell_type": "markdown",
   "id": "995057c9",
   "metadata": {},
   "source": [
    "## Test Model"
   ]
  },
  {
   "cell_type": "code",
   "execution_count": 11,
   "id": "c9d96dbc",
   "metadata": {},
   "outputs": [
    {
     "name": "stdout",
     "output_type": "stream",
     "text": [
      "1/1 [==============================] - 0s 75ms/step\n",
      "[7]\n"
     ]
    }
   ],
   "source": [
    "y_pred = model.predict(x_test[0].reshape(-1,28,28,1)).argmax(axis=1)\n",
    "print(y_pred)"
   ]
  },
  {
   "cell_type": "markdown",
   "id": "441ad3fe",
   "metadata": {},
   "source": [
    "## TinyML"
   ]
  },
  {
   "cell_type": "code",
   "execution_count": 12,
   "id": "9e421d8d",
   "metadata": {},
   "outputs": [
    {
     "name": "stdout",
     "output_type": "stream",
     "text": [
      "Requirement already satisfied: tinymlgen in ./.venv/lib/python3.10/site-packages (0.2)\n",
      "Requirement already satisfied: tensorflow in ./.venv/lib/python3.10/site-packages (from tinymlgen) (2.9.1)\n",
      "Requirement already satisfied: hexdump in ./.venv/lib/python3.10/site-packages (from tinymlgen) (3.3)\n",
      "Requirement already satisfied: astunparse>=1.6.0 in ./.venv/lib/python3.10/site-packages (from tensorflow->tinymlgen) (1.6.3)\n",
      "Requirement already satisfied: protobuf<3.20,>=3.9.2 in ./.venv/lib/python3.10/site-packages (from tensorflow->tinymlgen) (3.19.4)\n",
      "Requirement already satisfied: libclang>=13.0.0 in ./.venv/lib/python3.10/site-packages (from tensorflow->tinymlgen) (14.0.1)\n",
      "Requirement already satisfied: flatbuffers<2,>=1.12 in ./.venv/lib/python3.10/site-packages (from tensorflow->tinymlgen) (1.12)\n",
      "Requirement already satisfied: absl-py>=1.0.0 in ./.venv/lib/python3.10/site-packages (from tensorflow->tinymlgen) (1.1.0)\n",
      "Requirement already satisfied: keras-preprocessing>=1.1.1 in ./.venv/lib/python3.10/site-packages (from tensorflow->tinymlgen) (1.1.2)\n",
      "Requirement already satisfied: setuptools in ./.venv/lib/python3.10/site-packages (from tensorflow->tinymlgen) (58.1.0)\n",
      "Requirement already satisfied: gast<=0.4.0,>=0.2.1 in ./.venv/lib/python3.10/site-packages (from tensorflow->tinymlgen) (0.4.0)\n",
      "Requirement already satisfied: termcolor>=1.1.0 in ./.venv/lib/python3.10/site-packages (from tensorflow->tinymlgen) (1.1.0)\n",
      "Requirement already satisfied: tensorboard<2.10,>=2.9 in ./.venv/lib/python3.10/site-packages (from tensorflow->tinymlgen) (2.9.1)\n",
      "Requirement already satisfied: typing-extensions>=3.6.6 in ./.venv/lib/python3.10/site-packages (from tensorflow->tinymlgen) (4.3.0)\n",
      "Requirement already satisfied: keras<2.10.0,>=2.9.0rc0 in ./.venv/lib/python3.10/site-packages (from tensorflow->tinymlgen) (2.9.0)\n",
      "Requirement already satisfied: wrapt>=1.11.0 in ./.venv/lib/python3.10/site-packages (from tensorflow->tinymlgen) (1.14.1)\n",
      "Requirement already satisfied: tensorflow-estimator<2.10.0,>=2.9.0rc0 in ./.venv/lib/python3.10/site-packages (from tensorflow->tinymlgen) (2.9.0)\n",
      "Requirement already satisfied: grpcio<2.0,>=1.24.3 in ./.venv/lib/python3.10/site-packages (from tensorflow->tinymlgen) (1.47.0)\n",
      "Requirement already satisfied: opt-einsum>=2.3.2 in ./.venv/lib/python3.10/site-packages (from tensorflow->tinymlgen) (3.3.0)\n",
      "Requirement already satisfied: tensorflow-io-gcs-filesystem>=0.23.1 in ./.venv/lib/python3.10/site-packages (from tensorflow->tinymlgen) (0.26.0)\n",
      "Requirement already satisfied: numpy>=1.20 in ./.venv/lib/python3.10/site-packages (from tensorflow->tinymlgen) (1.23.1)\n",
      "Requirement already satisfied: google-pasta>=0.1.1 in ./.venv/lib/python3.10/site-packages (from tensorflow->tinymlgen) (0.2.0)\n",
      "Requirement already satisfied: six>=1.12.0 in ./.venv/lib/python3.10/site-packages (from tensorflow->tinymlgen) (1.16.0)\n",
      "Requirement already satisfied: packaging in ./.venv/lib/python3.10/site-packages (from tensorflow->tinymlgen) (21.3)\n",
      "Requirement already satisfied: h5py>=2.9.0 in ./.venv/lib/python3.10/site-packages (from tensorflow->tinymlgen) (3.7.0)\n",
      "Requirement already satisfied: wheel<1.0,>=0.23.0 in ./.venv/lib/python3.10/site-packages (from astunparse>=1.6.0->tensorflow->tinymlgen) (0.37.1)\n",
      "Requirement already satisfied: markdown>=2.6.8 in ./.venv/lib/python3.10/site-packages (from tensorboard<2.10,>=2.9->tensorflow->tinymlgen) (3.4.1)\n",
      "Requirement already satisfied: tensorboard-plugin-wit>=1.6.0 in ./.venv/lib/python3.10/site-packages (from tensorboard<2.10,>=2.9->tensorflow->tinymlgen) (1.8.1)\n",
      "Requirement already satisfied: google-auth<3,>=1.6.3 in ./.venv/lib/python3.10/site-packages (from tensorboard<2.10,>=2.9->tensorflow->tinymlgen) (2.9.1)\n",
      "Requirement already satisfied: google-auth-oauthlib<0.5,>=0.4.1 in ./.venv/lib/python3.10/site-packages (from tensorboard<2.10,>=2.9->tensorflow->tinymlgen) (0.4.6)\n",
      "Requirement already satisfied: tensorboard-data-server<0.7.0,>=0.6.0 in ./.venv/lib/python3.10/site-packages (from tensorboard<2.10,>=2.9->tensorflow->tinymlgen) (0.6.1)\n",
      "Requirement already satisfied: requests<3,>=2.21.0 in ./.venv/lib/python3.10/site-packages (from tensorboard<2.10,>=2.9->tensorflow->tinymlgen) (2.28.1)\n",
      "Requirement already satisfied: werkzeug>=1.0.1 in ./.venv/lib/python3.10/site-packages (from tensorboard<2.10,>=2.9->tensorflow->tinymlgen) (2.1.2)\n",
      "Requirement already satisfied: pyparsing!=3.0.5,>=2.0.2 in ./.venv/lib/python3.10/site-packages (from packaging->tensorflow->tinymlgen) (3.0.9)\n",
      "Requirement already satisfied: rsa<5,>=3.1.4 in ./.venv/lib/python3.10/site-packages (from google-auth<3,>=1.6.3->tensorboard<2.10,>=2.9->tensorflow->tinymlgen) (4.8)\n",
      "Requirement already satisfied: pyasn1-modules>=0.2.1 in ./.venv/lib/python3.10/site-packages (from google-auth<3,>=1.6.3->tensorboard<2.10,>=2.9->tensorflow->tinymlgen) (0.2.8)\n",
      "Requirement already satisfied: cachetools<6.0,>=2.0.0 in ./.venv/lib/python3.10/site-packages (from google-auth<3,>=1.6.3->tensorboard<2.10,>=2.9->tensorflow->tinymlgen) (5.2.0)\n",
      "Requirement already satisfied: requests-oauthlib>=0.7.0 in ./.venv/lib/python3.10/site-packages (from google-auth-oauthlib<0.5,>=0.4.1->tensorboard<2.10,>=2.9->tensorflow->tinymlgen) (1.3.1)\n",
      "Requirement already satisfied: certifi>=2017.4.17 in ./.venv/lib/python3.10/site-packages (from requests<3,>=2.21.0->tensorboard<2.10,>=2.9->tensorflow->tinymlgen) (2022.6.15)\n",
      "Requirement already satisfied: idna<4,>=2.5 in ./.venv/lib/python3.10/site-packages (from requests<3,>=2.21.0->tensorboard<2.10,>=2.9->tensorflow->tinymlgen) (3.3)\n",
      "Requirement already satisfied: charset-normalizer<3,>=2 in ./.venv/lib/python3.10/site-packages (from requests<3,>=2.21.0->tensorboard<2.10,>=2.9->tensorflow->tinymlgen) (2.1.0)\n",
      "Requirement already satisfied: urllib3<1.27,>=1.21.1 in ./.venv/lib/python3.10/site-packages (from requests<3,>=2.21.0->tensorboard<2.10,>=2.9->tensorflow->tinymlgen) (1.26.10)\n",
      "Requirement already satisfied: pyasn1<0.5.0,>=0.4.6 in ./.venv/lib/python3.10/site-packages (from pyasn1-modules>=0.2.1->google-auth<3,>=1.6.3->tensorboard<2.10,>=2.9->tensorflow->tinymlgen) (0.4.8)\n",
      "Requirement already satisfied: oauthlib>=3.0.0 in ./.venv/lib/python3.10/site-packages (from requests-oauthlib>=0.7.0->google-auth-oauthlib<0.5,>=0.4.1->tensorboard<2.10,>=2.9->tensorflow->tinymlgen) (3.2.0)\n"
     ]
    }
   ],
   "source": [
    "!pip install tinymlgen"
   ]
  },
  {
   "cell_type": "markdown",
   "id": "57171d58",
   "metadata": {},
   "source": [
    "### export model"
   ]
  },
  {
   "cell_type": "code",
   "execution_count": 13,
   "id": "9b8857f6",
   "metadata": {},
   "outputs": [
    {
     "name": "stderr",
     "output_type": "stream",
     "text": [
      "WARNING:absl:Found untraced functions such as _jit_compiled_convolution_op, _jit_compiled_convolution_op while saving (showing 2 of 2). These functions will not be directly callable after loading.\n"
     ]
    },
    {
     "name": "stdout",
     "output_type": "stream",
     "text": [
      "INFO:tensorflow:Assets written to: /var/folders/w1/9lc2_mk113z9m56r_3nvjmrw0000gn/T/tmpqe4yy4ou/assets\n"
     ]
    },
    {
     "name": "stderr",
     "output_type": "stream",
     "text": [
      "INFO:tensorflow:Assets written to: /var/folders/w1/9lc2_mk113z9m56r_3nvjmrw0000gn/T/tmpqe4yy4ou/assets\n",
      "2022-07-18 15:08:07.841114: W tensorflow/compiler/mlir/lite/python/tf_tfl_flatbuffer_helpers.cc:362] Ignored output_format.\n",
      "2022-07-18 15:08:07.841128: W tensorflow/compiler/mlir/lite/python/tf_tfl_flatbuffer_helpers.cc:365] Ignored drop_control_dependency.\n",
      "2022-07-18 15:08:07.841858: I tensorflow/cc/saved_model/reader.cc:43] Reading SavedModel from: /var/folders/w1/9lc2_mk113z9m56r_3nvjmrw0000gn/T/tmpqe4yy4ou\n",
      "2022-07-18 15:08:07.843895: I tensorflow/cc/saved_model/reader.cc:81] Reading meta graph with tags { serve }\n",
      "2022-07-18 15:08:07.843907: I tensorflow/cc/saved_model/reader.cc:122] Reading SavedModel debug info (if present) from: /var/folders/w1/9lc2_mk113z9m56r_3nvjmrw0000gn/T/tmpqe4yy4ou\n",
      "2022-07-18 15:08:07.849473: I tensorflow/compiler/mlir/mlir_graph_optimization_pass.cc:354] MLIR V1 optimization pass is not enabled\n",
      "2022-07-18 15:08:07.852722: I tensorflow/cc/saved_model/loader.cc:228] Restoring SavedModel bundle.\n",
      "2022-07-18 15:08:07.906211: I tensorflow/cc/saved_model/loader.cc:212] Running initialization op on SavedModel bundle at path: /var/folders/w1/9lc2_mk113z9m56r_3nvjmrw0000gn/T/tmpqe4yy4ou\n",
      "2022-07-18 15:08:07.924150: I tensorflow/cc/saved_model/loader.cc:301] SavedModel load for tags { serve }; Status: success: OK. Took 82296 microseconds.\n",
      "2022-07-18 15:08:07.949241: I tensorflow/compiler/mlir/tensorflow/utils/dump_mlir_util.cc:263] disabling MLIR crash reproducer, set env var `MLIR_CRASH_REPRODUCER_DIRECTORY` to enable.\n"
     ]
    }
   ],
   "source": [
    "converter = tf.lite.TFLiteConverter.from_keras_model(model)\n",
    "tflite_model = converter.convert()\n",
    "\n",
    "# Save the model to disk\n",
    "open(\"mnist_cnn_quantized.tflite\", \"wb\").write(tflite_model)\n",
    "\n",
    "!xxd -i mnist_cnn_quantized.tflite > mnist_cnn_quantized.cc"
   ]
  },
  {
   "cell_type": "code",
   "execution_count": 14,
   "id": "a6852312",
   "metadata": {},
   "outputs": [
    {
     "name": "stderr",
     "output_type": "stream",
     "text": [
      "WARNING:absl:Found untraced functions such as _jit_compiled_convolution_op, _jit_compiled_convolution_op while saving (showing 2 of 2). These functions will not be directly callable after loading.\n"
     ]
    },
    {
     "name": "stdout",
     "output_type": "stream",
     "text": [
      "INFO:tensorflow:Assets written to: /var/folders/w1/9lc2_mk113z9m56r_3nvjmrw0000gn/T/tmpxilly6cp/assets\n"
     ]
    },
    {
     "name": "stderr",
     "output_type": "stream",
     "text": [
      "INFO:tensorflow:Assets written to: /var/folders/w1/9lc2_mk113z9m56r_3nvjmrw0000gn/T/tmpxilly6cp/assets\n",
      "2022-07-18 15:08:10.408302: W tensorflow/compiler/mlir/lite/python/tf_tfl_flatbuffer_helpers.cc:362] Ignored output_format.\n",
      "2022-07-18 15:08:10.408320: W tensorflow/compiler/mlir/lite/python/tf_tfl_flatbuffer_helpers.cc:365] Ignored drop_control_dependency.\n",
      "2022-07-18 15:08:10.408452: I tensorflow/cc/saved_model/reader.cc:43] Reading SavedModel from: /var/folders/w1/9lc2_mk113z9m56r_3nvjmrw0000gn/T/tmpxilly6cp\n",
      "2022-07-18 15:08:10.415953: I tensorflow/cc/saved_model/reader.cc:81] Reading meta graph with tags { serve }\n",
      "2022-07-18 15:08:10.415973: I tensorflow/cc/saved_model/reader.cc:122] Reading SavedModel debug info (if present) from: /var/folders/w1/9lc2_mk113z9m56r_3nvjmrw0000gn/T/tmpxilly6cp\n",
      "2022-07-18 15:08:10.422676: I tensorflow/cc/saved_model/loader.cc:228] Restoring SavedModel bundle.\n",
      "2022-07-18 15:08:10.476793: I tensorflow/cc/saved_model/loader.cc:212] Running initialization op on SavedModel bundle at path: /var/folders/w1/9lc2_mk113z9m56r_3nvjmrw0000gn/T/tmpxilly6cp\n",
      "2022-07-18 15:08:10.494279: I tensorflow/cc/saved_model/loader.cc:301] SavedModel load for tags { serve }; Status: success: OK. Took 85826 microseconds.\n"
     ]
    }
   ],
   "source": [
    "from tinymlgen import port\n",
    "c_code = port(model, variable_name='mnist_cnn', pretty_print=True, optimize=False) \n",
    "\n",
    "with open('mnist_cnn.h', 'w') as f:\n",
    "    print(c_code, file=f)"
   ]
  },
  {
   "cell_type": "code",
   "execution_count": 15,
   "id": "f12ac471",
   "metadata": {},
   "outputs": [],
   "source": [
    "!sed -i '' -E 's/ +$//g' mnist_cnn.h"
   ]
  },
  {
   "cell_type": "markdown",
   "id": "d6a9f105",
   "metadata": {},
   "source": [
    "### export a test data (uint8)"
   ]
  },
  {
   "cell_type": "code",
   "execution_count": 16,
   "id": "08448ce1",
   "metadata": {},
   "outputs": [],
   "source": [
    "# load raw x_test\n",
    "(x_train, y_train), (x_test, y_test) = datasets.mnist.load_data()\n",
    "    \n",
    "with open('x_test.h', 'w') as f:\n",
    "    print(\"unsigned char x_test_dat[784] = {\", file=f)    \n",
    "    for i in range(28):\n",
    "        s = \"       \"\n",
    "        for j in range(28):\n",
    "            s+=str(x_test[0][i][j])+', ' # select x_test[0]\n",
    "        print(s, file=f)\n",
    "    print(\"};\", file=f)\n",
    "f.close()"
   ]
  },
  {
   "cell_type": "code",
   "execution_count": 17,
   "id": "c688ed85",
   "metadata": {},
   "outputs": [],
   "source": [
    "!sed -i '' -E 's/ +$//g' x_test.h"
   ]
  },
  {
   "cell_type": "code",
   "execution_count": 18,
   "id": "b16e6ae9",
   "metadata": {},
   "outputs": [
    {
     "name": "stdout",
     "output_type": "stream",
     "text": [
      "unsigned char x_test_dat[784] = {\r\n",
      "       0, 0, 0, 0, 0, 0, 0, 0, 0, 0, 0, 0, 0, 0, 0, 0, 0, 0, 0, 0, 0, 0, 0, 0, 0, 0, 0, 0,\r\n",
      "       0, 0, 0, 0, 0, 0, 0, 0, 0, 0, 0, 0, 0, 0, 0, 0, 0, 0, 0, 0, 0, 0, 0, 0, 0, 0, 0, 0,\r\n",
      "       0, 0, 0, 0, 0, 0, 0, 0, 0, 0, 0, 0, 0, 0, 0, 0, 0, 0, 0, 0, 0, 0, 0, 0, 0, 0, 0, 0,\r\n",
      "       0, 0, 0, 0, 0, 0, 0, 0, 0, 0, 0, 0, 0, 0, 0, 0, 0, 0, 0, 0, 0, 0, 0, 0, 0, 0, 0, 0,\r\n",
      "       0, 0, 0, 0, 0, 0, 0, 0, 0, 0, 0, 0, 0, 0, 0, 0, 0, 0, 0, 0, 0, 0, 0, 0, 0, 0, 0, 0,\r\n",
      "       0, 0, 0, 0, 0, 0, 0, 0, 0, 0, 0, 0, 0, 0, 0, 0, 0, 0, 0, 0, 0, 0, 0, 0, 0, 0, 0, 0,\r\n",
      "       0, 0, 0, 0, 0, 0, 0, 0, 0, 0, 0, 0, 0, 0, 0, 0, 0, 0, 0, 0, 0, 0, 0, 0, 0, 0, 0, 0,\r\n",
      "       0, 0, 0, 0, 0, 0, 84, 185, 159, 151, 60, 36, 0, 0, 0, 0, 0, 0, 0, 0, 0, 0, 0, 0, 0, 0, 0, 0,\r\n",
      "       0, 0, 0, 0, 0, 0, 222, 254, 254, 254, 254, 241, 198, 198, 198, 198, 198, 198, 198, 198, 170, 52, 0, 0, 0, 0, 0, 0,\r\n",
      "       0, 0, 0, 0, 0, 0, 67, 114, 72, 114, 163, 227, 254, 225, 254, 254, 254, 250, 229, 254, 254, 140, 0, 0, 0, 0, 0, 0,\r",
      "\r\n",
      "       0, 0, 0, 0, 0, 0, 0, 0, 0, 0, 0, 17, 66, 14, 67, 67, 67, 59, 21, 236, 254, 106, 0, 0, 0, 0, 0, 0,\r\n",
      "       0, 0, 0, 0, 0, 0, 0, 0, 0, 0, 0, 0, 0, 0, 0, 0, 0, 0, 83, 253, 209, 18, 0, 0, 0, 0, 0, 0,\r\n",
      "       0, 0, 0, 0, 0, 0, 0, 0, 0, 0, 0, 0, 0, 0, 0, 0, 0, 22, 233, 255, 83, 0, 0, 0, 0, 0, 0, 0,\r\n",
      "       0, 0, 0, 0, 0, 0, 0, 0, 0, 0, 0, 0, 0, 0, 0, 0, 0, 129, 254, 238, 44, 0, 0, 0, 0, 0, 0, 0,\r\n",
      "       0, 0, 0, 0, 0, 0, 0, 0, 0, 0, 0, 0, 0, 0, 0, 0, 59, 249, 254, 62, 0, 0, 0, 0, 0, 0, 0, 0,\r\n",
      "       0, 0, 0, 0, 0, 0, 0, 0, 0, 0, 0, 0, 0, 0, 0, 0, 133, 254, 187, 5, 0, 0, 0, 0, 0, 0, 0, 0,\r\n",
      "       0, 0, 0, 0, 0, 0, 0, 0, 0, 0, 0, 0, 0, 0, 0, 9, 205, 248, 58, 0, 0, 0, 0, 0, 0, 0, 0, 0,\r\n",
      "       0, 0, 0, 0, 0, 0, 0, 0, 0, 0, 0, 0, 0, 0, 0, 126, 254, 182, 0, 0, 0, 0, 0, 0, 0, 0, 0, 0,\r\n",
      "       0, 0, 0, 0, 0, 0, 0, 0, 0, 0, 0, 0, 0, 0, 75, 251, 240, 57, 0, 0, 0, 0, 0, 0, 0, 0, 0, 0,\r\n",
      "       0, 0, 0, 0, 0, 0, 0, 0, 0, 0, 0, 0, 0, 19, 221, 254, 166, 0, 0, 0, 0, 0, 0, 0, 0, 0, 0, 0,\r\n",
      "       0, 0, 0, 0, 0, 0, 0, 0, 0, 0, 0, 0, 3, 203, 254, 219, 35, 0, 0, 0, 0, 0, 0, 0, 0, 0, 0, 0,\r\n",
      "       0, 0, 0, 0, 0, 0, 0, 0, 0, 0, 0, 0, 38, 254, 254, 77, 0, 0, 0, 0, 0, 0, 0, 0, 0, 0, 0, 0,\r\n",
      "       0, 0, 0, 0, 0, 0, 0, 0, 0, 0, 0, 31, 224, 254, 115, 1, 0, 0, 0, 0, 0, 0, 0, 0, 0, 0, 0, 0,\r\n",
      "       0, 0, 0, 0, 0, 0, 0, 0, 0, 0, 0, 133, 254, 254, 52, 0, 0, 0, 0, 0, 0, 0, 0, 0, 0, 0, 0, 0,\r\n",
      "       0, 0, 0, 0, 0, 0, 0, 0, 0, 0, 61, 242, 254, 254, 52, 0, 0, 0, 0, 0, 0, 0, 0, 0, 0, 0, 0, 0,\r\n",
      "       0, 0, 0, 0, 0, 0, 0, 0, 0, 0, 121, 254, 254, 219, 40, 0, 0, 0, 0, 0, 0, 0, 0, 0, 0, 0, 0, 0,\r\n",
      "       0, 0, 0, 0, 0, 0, 0, 0, 0, 0, 121, 254, 207, 18, 0, 0, 0, 0, 0, 0, 0, 0, 0, 0, 0, 0, 0, 0,\r\n",
      "       0, 0, 0, 0, 0, 0, 0, 0, 0, 0, 0, 0, 0, 0, 0, 0, 0, 0, 0, 0, 0, 0, 0, 0, 0, 0, 0, 0,\r\n",
      "};\r\n"
     ]
    }
   ],
   "source": [
    "!cat x_test.h"
   ]
  }
 ],
 "metadata": {
  "kernelspec": {
   "display_name": "Python 3 (ipykernel)",
   "language": "python",
   "name": "python3"
  },
  "language_info": {
   "codemirror_mode": {
    "name": "ipython",
    "version": 3
   },
   "file_extension": ".py",
   "mimetype": "text/x-python",
   "name": "python",
   "nbconvert_exporter": "python",
   "pygments_lexer": "ipython3",
   "version": "3.10.5"
  }
 },
 "nbformat": 4,
 "nbformat_minor": 5
}
